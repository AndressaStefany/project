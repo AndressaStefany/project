{
 "cells": [
  {
   "cell_type": "code",
   "execution_count": 19,
   "metadata": {},
   "outputs": [],
   "source": [
    "import pandas as pd"
   ]
  },
  {
   "cell_type": "code",
   "execution_count": 24,
   "metadata": {},
   "outputs": [
    {
     "name": "stdout",
     "output_type": "stream",
     "text": [
      "20101\n",
      "20102\n",
      "20111\n",
      "20112\n",
      "20121\n",
      "20122\n",
      "20131\n",
      "20132\n",
      "20141\n",
      "20142\n",
      "20151\n"
     ]
    },
    {
     "name": "stderr",
     "output_type": "stream",
     "text": [
      "/home/andressa/anaconda3/lib/python3.6/site-packages/ipykernel_launcher.py:9: FutureWarning: Sorting because non-concatenation axis is not aligned. A future version\n",
      "of pandas will change to not sort by default.\n",
      "\n",
      "To accept the future behavior, pass 'sort=True'.\n",
      "\n",
      "To retain the current behavior and silence the warning, pass sort=False\n",
      "\n",
      "  if __name__ == '__main__':\n"
     ]
    },
    {
     "name": "stdout",
     "output_type": "stream",
     "text": [
      "20152\n",
      "20161\n",
      "20162\n",
      "20171\n",
      "20172\n"
     ]
    }
   ],
   "source": [
    "df_matriculas = pd.DataFrame()\n",
    "\n",
    "# importando notas de 2010 a 2017\n",
    "for i in range(10,18):\n",
    "    for j in range(1,3):\n",
    "        print('20'+str(i)+str(j))\n",
    "        df_matricula = pd.read_csv('../matriculas_new/matricula-componente-20'+str(i)+str(j)+'.csv',sep=';')\n",
    "        #concatena as tabelas de 2010 a 2017\n",
    "        df_matriculas = pd.concat([df_matriculas, df_matricula])"
   ]
  },
  {
   "cell_type": "code",
   "execution_count": 54,
   "metadata": {},
   "outputs": [],
   "source": [
    "cols = ['descricao', 'discente', 'faltas_unidade', 'id_curso',\n",
    "       'id_turma', 'media_final', 'nota', 'numero_total_faltas', 'reposicao',\n",
    "       'unidade']\n",
    "df_matriculas = df_matriculas[cols]"
   ]
  },
  {
   "cell_type": "code",
   "execution_count": 55,
   "metadata": {},
   "outputs": [
    {
     "name": "stdout",
     "output_type": "stream",
     "text": [
      "Id Cet: 16    10320810\n",
      "Name: id_curso, dtype: int64\n"
     ]
    }
   ],
   "source": [
    "# obtendo o id do curso de ciências e tecnologia\n",
    "df_cursos = pd.read_csv('../cursos-graduacao.csv', sep=';')\n",
    "id_cet = df_cursos[df_cursos.nome == 'CIÊNCIAS E TECNOLOGIA'].id_curso\n",
    "\n",
    "print(\"Id Cet: \"+ str(id_cet))"
   ]
  },
  {
   "cell_type": "code",
   "execution_count": 56,
   "metadata": {},
   "outputs": [],
   "source": [
    "# filtra tabela pelo id_curso\n",
    "df_matriculas = df_matriculas[df_matriculas.id_curso == float(id_cet)]"
   ]
  },
  {
   "cell_type": "code",
   "execution_count": 57,
   "metadata": {},
   "outputs": [
    {
     "name": "stdout",
     "output_type": "stream",
     "text": [
      "101\n",
      "102\n",
      "111\n",
      "112\n",
      "121\n",
      "122\n",
      "131\n",
      "132\n",
      "141\n",
      "142\n",
      "151\n",
      "152\n",
      "161\n",
      "162\n",
      "171\n",
      "172\n"
     ]
    }
   ],
   "source": [
    "# concatenar todas as turmas de 2010 a 2017\n",
    "df_turmas = pd.DataFrame()\n",
    "for i in range(10,18):\n",
    "    for j in range(1,3):\n",
    "        print(str(i)+str(j))\n",
    "        f = open('../turmas_new/turmas-20'+str(i)+str(j)+'.csv')\n",
    "        d = f.read()\n",
    "        d = d.replace(\"\\n\",\"\")\n",
    "        x = d.split(\"\\\";\\\"\")\n",
    "        a = []\n",
    "        step = 25\n",
    "        for b in range(0, len(x), step):\n",
    "            a.append(x[b:b+step])\n",
    "        df = pd.DataFrame(a[1:],columns=['id_turma']+a[0][1:])\n",
    "        df_turmas = pd.concat([df_turmas, df])"
   ]
  },
  {
   "cell_type": "code",
   "execution_count": 77,
   "metadata": {},
   "outputs": [],
   "source": [
    "# filtra disciplinas da graduação\n",
    "df_turmas = df_turmas[df_turmas['nivel_ensino'] == 'GRADUAÇÃO']"
   ]
  },
  {
   "cell_type": "code",
   "execution_count": 78,
   "metadata": {},
   "outputs": [],
   "source": [
    "# conversoes\n",
    "df_turmas['id_turma'] = df_turmas.id_turma.astype(int)\n",
    "df_turmas['id_componente_curricular'] = df_turmas.id_componente_curricular.astype(int)\n",
    "df_turmas['ano'] = df_turmas.ano.astype(int)\n",
    "df_turmas['periodo'] = df_turmas.periodo.astype(int)"
   ]
  },
  {
   "cell_type": "code",
   "execution_count": 79,
   "metadata": {},
   "outputs": [],
   "source": [
    "# nova coluna\n",
    "series_anoperiodo = (df_turmas['ano'].map(str)+df_turmas['periodo'].map(str))\n",
    "df_turmas['periodoano'] = series_anoperiodo.astype(int)\n",
    "\n",
    "# filtrando por ano e nivel de ensino\n",
    "df_turmasFilt = df_turmas[(df_turmas['ano'] >= 2015) & \n",
    "                          (df_turmas['nivel_ensino'] == 'GRADUAÇÃO')]"
   ]
  },
  {
   "cell_type": "code",
   "execution_count": 80,
   "metadata": {},
   "outputs": [],
   "source": [
    "df_componentes = pd.read_csv('../componentes-curriculares-presenciais-ok.csv')\n",
    "\n",
    "df_turmasNome = pd.merge(df_turmasFilt, df_componentes, left_on='id_componente_curricular', right_on='id_componente')"
   ]
  },
  {
   "cell_type": "code",
   "execution_count": 81,
   "metadata": {},
   "outputs": [],
   "source": [
    "colunas = ['id_turma', 'codigo', 'nome', 'pre_requisito', 'ano', 'periodo', 'unidade_responsavel', 'periodoano']\n",
    "df_turmasNome = df_turmasNome[colunas]"
   ]
  },
  {
   "cell_type": "code",
   "execution_count": 82,
   "metadata": {},
   "outputs": [],
   "source": [
    "df_auxAll = pd.merge(df_matriculas, df_turmasNome, on='id_turma')\n",
    "df_auxAll = df_auxAll.drop_duplicates().dropna()"
   ]
  },
  {
   "cell_type": "code",
   "execution_count": 83,
   "metadata": {},
   "outputs": [],
   "source": [
    "# conjunto de alunos que não serão analisados\n",
    "series_Antes2015 = df_auxAll[df_auxAll['ano']<2015].discente\n",
    "\n",
    "# selecionando apenas alunos que entraram a partir de 2015\n",
    "df_depois2015 = df_auxAll[~df_auxAll['discente'].isin(series_Antes2015)]\n",
    "df_depois2015 = df_depois2015[df_depois2015['unidade_responsavel'] == 'ESCOLA DE CIÊNCIAS E TECNOLOGIA']\n",
    "\n",
    "disciplinas = ['CÁLCULO I','CÁLCULO II','CÁLCULO III','VETORES E GEOMETRIA ANALÍTICA','PRÉ-CÁLCULO','PROBABILIDADE E ESTATÍSTICA',\n",
    "               'INTRODUÇÃO À FÍSICA CLÁSSICA I','INTRODUÇÃO À FÍSICA CLÁSSICA II','INTRODUÇÃO À FÍSICA CLÁSSICA III','LÓGICA DE PROGRAMAÇÃO',\n",
    "               'LINGUAGEM DE PROGRAMAÇÃO','COMPUTAÇÃO NUMÉRICA','QUÍMICA GERAL','ÁLGEBRA LINEAR','MECÂNICA DOS SÓLIDOS','MECÂNICA DOS FLUIDOS',\n",
    "               'CIÊNCIA E TECNOLOGIA DOS MATERIAIS']\n",
    "\n",
    "df_auxTurmas = df_depois2015[df_depois2015['nome'].isin(disciplinas)]\n",
    "\n",
    "colunas_3 = ['descricao', 'discente', 'id_turma', 'media_final', 'codigo',\n",
    "       'nome', 'ano', 'periodo', 'unidade_responsavel', 'id_curso','periodoano']\n",
    "df_auxTurmas = df_auxTurmas[colunas_3]\n",
    "df_auxTurmas.to_csv(\"../turmas_2015-2017.csv\")"
   ]
  }
 ],
 "metadata": {
  "kernelspec": {
   "display_name": "Python 3",
   "language": "python",
   "name": "python3"
  },
  "language_info": {
   "codemirror_mode": {
    "name": "ipython",
    "version": 3
   },
   "file_extension": ".py",
   "mimetype": "text/x-python",
   "name": "python",
   "nbconvert_exporter": "python",
   "pygments_lexer": "ipython3",
   "version": "3.6.5"
  }
 },
 "nbformat": 4,
 "nbformat_minor": 2
}
