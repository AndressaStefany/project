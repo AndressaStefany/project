{
 "cells": [
  {
   "cell_type": "code",
   "execution_count": 108,
   "metadata": {},
   "outputs": [],
   "source": [
    "import pandas as pd\n",
    "import numpy as np"
   ]
  },
  {
   "cell_type": "markdown",
   "metadata": {},
   "source": [
    "Estrutura curricular"
   ]
  },
  {
   "cell_type": "code",
   "execution_count": 156,
   "metadata": {},
   "outputs": [],
   "source": [
    "df_curriculo = pd.read_csv('../data_science/curriculo-componente-graduacao.csv', sep=';')\n",
    "df_curriculo = df_curriculo[df_curriculo['semestre_oferta'] != 0]\n",
    "df_curriculo = df_curriculo[df_curriculo['tipo_vinculo_componente'] == 'OBRIGATÓRIO']"
   ]
  },
  {
   "cell_type": "code",
   "execution_count": 157,
   "metadata": {},
   "outputs": [
    {
     "data": {
      "text/plain": [
       "Index(['id_curriculo_componente', 'id_curriculo', 'id_componente_curricular',\n",
       "       'semestre_oferta', 'tipo_vinculo_componente', 'nivel_ensino'],\n",
       "      dtype='object')"
      ]
     },
     "execution_count": 157,
     "metadata": {},
     "output_type": "execute_result"
    }
   ],
   "source": [
    "df_curriculo.columns"
   ]
  },
  {
   "cell_type": "code",
   "execution_count": 158,
   "metadata": {},
   "outputs": [
    {
     "data": {
      "text/html": [
       "<div>\n",
       "<style scoped>\n",
       "    .dataframe tbody tr th:only-of-type {\n",
       "        vertical-align: middle;\n",
       "    }\n",
       "\n",
       "    .dataframe tbody tr th {\n",
       "        vertical-align: top;\n",
       "    }\n",
       "\n",
       "    .dataframe thead th {\n",
       "        text-align: right;\n",
       "    }\n",
       "</style>\n",
       "<table border=\"1\" class=\"dataframe\">\n",
       "  <thead>\n",
       "    <tr style=\"text-align: right;\">\n",
       "      <th></th>\n",
       "      <th>id_curriculo_componente</th>\n",
       "      <th>id_curriculo</th>\n",
       "      <th>id_componente_curricular</th>\n",
       "      <th>semestre_oferta</th>\n",
       "      <th>tipo_vinculo_componente</th>\n",
       "      <th>nivel_ensino</th>\n",
       "    </tr>\n",
       "  </thead>\n",
       "  <tbody>\n",
       "    <tr>\n",
       "      <th>2</th>\n",
       "      <td>19001074</td>\n",
       "      <td>18999000</td>\n",
       "      <td>25603</td>\n",
       "      <td>1</td>\n",
       "      <td>OBRIGATÓRIO</td>\n",
       "      <td>GRADUAÇÃO</td>\n",
       "    </tr>\n",
       "    <tr>\n",
       "      <th>5</th>\n",
       "      <td>13472483</td>\n",
       "      <td>8601560</td>\n",
       "      <td>26589</td>\n",
       "      <td>3</td>\n",
       "      <td>OBRIGATÓRIO</td>\n",
       "      <td>GRADUAÇÃO</td>\n",
       "    </tr>\n",
       "    <tr>\n",
       "      <th>6</th>\n",
       "      <td>135858</td>\n",
       "      <td>100513</td>\n",
       "      <td>24485</td>\n",
       "      <td>3</td>\n",
       "      <td>OBRIGATÓRIO</td>\n",
       "      <td>GRADUAÇÃO</td>\n",
       "    </tr>\n",
       "    <tr>\n",
       "      <th>7</th>\n",
       "      <td>146555</td>\n",
       "      <td>9051720</td>\n",
       "      <td>2041610</td>\n",
       "      <td>5</td>\n",
       "      <td>OBRIGATÓRIO</td>\n",
       "      <td>GRADUAÇÃO</td>\n",
       "    </tr>\n",
       "    <tr>\n",
       "      <th>8</th>\n",
       "      <td>121924</td>\n",
       "      <td>100478</td>\n",
       "      <td>22237</td>\n",
       "      <td>2</td>\n",
       "      <td>OBRIGATÓRIO</td>\n",
       "      <td>GRADUAÇÃO</td>\n",
       "    </tr>\n",
       "  </tbody>\n",
       "</table>\n",
       "</div>"
      ],
      "text/plain": [
       "   id_curriculo_componente  id_curriculo  id_componente_curricular  \\\n",
       "2                 19001074      18999000                     25603   \n",
       "5                 13472483       8601560                     26589   \n",
       "6                   135858        100513                     24485   \n",
       "7                   146555       9051720                   2041610   \n",
       "8                   121924        100478                     22237   \n",
       "\n",
       "   semestre_oferta tipo_vinculo_componente nivel_ensino  \n",
       "2                1             OBRIGATÓRIO    GRADUAÇÃO  \n",
       "5                3             OBRIGATÓRIO    GRADUAÇÃO  \n",
       "6                3             OBRIGATÓRIO    GRADUAÇÃO  \n",
       "7                5             OBRIGATÓRIO    GRADUAÇÃO  \n",
       "8                2             OBRIGATÓRIO    GRADUAÇÃO  "
      ]
     },
     "execution_count": 158,
     "metadata": {},
     "output_type": "execute_result"
    }
   ],
   "source": [
    "df_curriculo.head()"
   ]
  },
  {
   "cell_type": "code",
   "execution_count": 159,
   "metadata": {},
   "outputs": [],
   "source": [
    "series_idcomponentecurricular = df_curriculo['id_componente_curricular'].unique()\n",
    "\n",
    "df_curriculoSelec = pd.DataFrame()\n",
    "\n",
    "for l in series_idcomponentecurricular:\n",
    "    linha = df_curriculo[ df_curriculo['id_componente_curricular'] == l]\n",
    "    linhadf = df_curriculo[df_curriculo['id_curriculo_componente'] == linha.id_curriculo_componente.max()]\n",
    "    \n",
    "    df_curriculoSelec = pd.concat([df_curriculoSelec, linhadf])"
   ]
  },
  {
   "cell_type": "code",
   "execution_count": 168,
   "metadata": {},
   "outputs": [],
   "source": [
    "colunas_2 = ['id_componente_curricular', 'semestre_oferta']\n",
    "\n",
    "df_curriculoSelec = df_curriculoSelec[colunas_2]"
   ]
  },
  {
   "cell_type": "markdown",
   "metadata": {},
   "source": [
    "Tabelas dos componentes curriculares"
   ]
  },
  {
   "cell_type": "code",
   "execution_count": 169,
   "metadata": {},
   "outputs": [],
   "source": [
    "df_materias = pd.read_csv('../data_science/componentes-curriculares-presenciais-ok.csv')"
   ]
  },
  {
   "cell_type": "code",
   "execution_count": 170,
   "metadata": {},
   "outputs": [],
   "source": [
    "df_materias = df_materias[['id_componente', 'tipo_componente', 'codigo', 'nivel',\n",
    "       'nome', 'unidade_responsavel', 'ch_teorico', 'ch_pratico', 'ch_estagio',\n",
    "       'ch_total', 'ch_dedicada_docente', 'ch_ead', 'cr_max_ead',\n",
    "       'permite_horario_flexivel', 'qtd_unidades', 'procedimentos_avaliacao',\n",
    "       'equivalencia', 'pre_requisito', 'co_requisito', 'ementa',\n",
    "       'bibliografia', 'objetivos', 'conteudo', 'competencias_habilidades',\n",
    "       'referencias', 'ano_programa', 'periodo_programa', 'modalidade',\n",
    "       'curso_componente']].drop_duplicates()"
   ]
  },
  {
   "cell_type": "code",
   "execution_count": 171,
   "metadata": {},
   "outputs": [],
   "source": [
    "df_materiasSemestre = pd.merge(df_materias, df_curriculoSelec, left_on='id_componente', right_on='id_componente_curricular').drop_duplicates()"
   ]
  },
  {
   "cell_type": "code",
   "execution_count": 172,
   "metadata": {},
   "outputs": [],
   "source": [
    "unidade = 'ESCOLA DE CIÊNCIAS E TECNOLOGIA'\n",
    "\n",
    "df_materiasSemestre = df_materiasSemestre[(df_materiasSemestre['unidade_responsavel'] == unidade) & \n",
    "                                          (df_materiasSemestre['ano_programa'] >= 2014) & \n",
    "                                          (df_materiasSemestre['semestre_oferta']>0) & \n",
    "                                          (df_materiasSemestre['semestre_oferta']<=4)]"
   ]
  },
  {
   "cell_type": "code",
   "execution_count": 173,
   "metadata": {},
   "outputs": [],
   "source": [
    "colunas = ['id_componente','codigo','nome','ch_teorico', 'ch_pratico', 'ch_estagio',\n",
    "       'ch_total', 'ch_dedicada_docente', 'ch_ead', 'cr_max_ead',\n",
    "       'qtd_unidades', 'equivalencia', 'pre_requisito', 'competencias_habilidades',\n",
    "       'ano_programa', 'periodo_programa', 'semestre_oferta']"
   ]
  },
  {
   "cell_type": "code",
   "execution_count": 174,
   "metadata": {},
   "outputs": [],
   "source": [
    "df_materiasSemestre = df_materiasSemestre[colunas]"
   ]
  },
  {
   "cell_type": "code",
   "execution_count": 175,
   "metadata": {},
   "outputs": [],
   "source": [
    "df_materiasSemestre.to_csv('teste.csv')"
   ]
  }
 ],
 "metadata": {
  "kernelspec": {
   "display_name": "Python 3",
   "language": "python",
   "name": "python3"
  },
  "language_info": {
   "codemirror_mode": {
    "name": "ipython",
    "version": 3
   },
   "file_extension": ".py",
   "mimetype": "text/x-python",
   "name": "python",
   "nbconvert_exporter": "python",
   "pygments_lexer": "ipython3",
   "version": "3.6.5"
  }
 },
 "nbformat": 4,
 "nbformat_minor": 2
}
