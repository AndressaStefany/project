{
 "cells": [
  {
   "cell_type": "code",
   "execution_count": 1,
   "metadata": {},
   "outputs": [],
   "source": [
    "import pandas as pd\n",
    "import numpy as np\n",
    "import matplotlib.pyplot as plt"
   ]
  },
  {
   "cell_type": "code",
   "execution_count": 2,
   "metadata": {},
   "outputs": [
    {
     "name": "stdout",
     "output_type": "stream",
     "text": [
      "2009\n",
      "2010\n",
      "2011\n",
      "2012\n",
      "2013\n",
      "2014\n",
      "2015\n",
      "2016\n",
      "2017\n"
     ]
    }
   ],
   "source": [
    "df_ingressos = pd.DataFrame()\n",
    "\n",
    "# importando notas de 2009 a 2017\n",
    "for i in range(2009,2018):\n",
    "    print(i)\n",
    "    df_ingresso = pd.read_csv('../data_science/discentes/discentes-'+str(i)+'.csv',sep=';')\n",
    "    df_ingressos = pd.concat([df_ingressos, df_ingresso])\n",
    "    "
   ]
  },
  {
   "cell_type": "code",
   "execution_count": 3,
   "metadata": {},
   "outputs": [],
   "source": [
    "# curso CeT\n",
    "id_curso = 10320810.0\n",
    "# filtrando igressantes de CeT\n",
    "df_ingressoCeT = df_ingressos[df_ingressos[\"id_curso\"] == id_curso]"
   ]
  },
  {
   "cell_type": "code",
   "execution_count": 4,
   "metadata": {},
   "outputs": [],
   "source": [
    "df_relacao = pd.read_csv('../data_science/matriculas-2013-2017.csv', sep=';')\n",
    "cols = ['id_discente', 'nome', 'cotista', 'nota_ingresso']\n",
    "df_relacao = df_relacao[cols]"
   ]
  },
  {
   "cell_type": "code",
   "execution_count": 5,
   "metadata": {},
   "outputs": [],
   "source": [
    "df_merge = pd.merge(df_ingressoCeT, df_relacao, left_on='nome_discente', right_on='nome')\n",
    "colunas = ['matricula', 'id_discente', 'ano_ingresso', 'periodo_ingresso',\n",
    "           'forma_ingresso', 'tipo_discente', 'status', 'cotista', 'nota_ingresso']\n",
    "\n",
    "df_merge = df_merge[colunas]"
   ]
  },
  {
   "cell_type": "code",
   "execution_count": 6,
   "metadata": {},
   "outputs": [],
   "source": [
    "df_merge['periodo_ingresso'] = df_merge.periodo_ingresso.astype(int)"
   ]
  },
  {
   "cell_type": "code",
   "execution_count": 7,
   "metadata": {},
   "outputs": [
    {
     "name": "stdout",
     "output_type": "stream",
     "text": [
      "20111\n",
      "20112\n",
      "20121\n",
      "20122\n",
      "20131\n",
      "20132\n",
      "20141\n",
      "20142\n",
      "20151\n"
     ]
    },
    {
     "name": "stderr",
     "output_type": "stream",
     "text": [
      "/home/andressa/anaconda3/lib/python3.6/site-packages/ipykernel_launcher.py:8: FutureWarning: Sorting because non-concatenation axis is not aligned. A future version\n",
      "of pandas will change to not sort by default.\n",
      "\n",
      "To accept the future behavior, pass 'sort=True'.\n",
      "\n",
      "To retain the current behavior and silence the warning, pass sort=False\n",
      "\n",
      "  \n"
     ]
    },
    {
     "name": "stdout",
     "output_type": "stream",
     "text": [
      "20152\n",
      "20161\n",
      "20162\n",
      "20171\n",
      "20172\n"
     ]
    },
    {
     "data": {
      "text/plain": [
       "Index(['Unnamed: 10', 'descricao', 'discente', 'faltas_unidade', 'id_curso',\n",
       "       'id_turma', 'media_final', 'nota', 'numero_total_faltas', 'reposicao',\n",
       "       'unidade'],\n",
       "      dtype='object')"
      ]
     },
     "execution_count": 7,
     "metadata": {},
     "output_type": "execute_result"
    }
   ],
   "source": [
    "df_matriculas = pd.DataFrame()\n",
    "\n",
    "for i in range(11,18):\n",
    "    for j in range(1,3):\n",
    "        print('20'+str(i)+str(j))\n",
    "        df_matricula = pd.read_csv('../data_science/matriculas_new/matricula-componente-20'+str(i)+str(j)+'.csv',sep=';')\n",
    "        #concatena as tabelas de 2010 a 2017\n",
    "        df_matriculas = pd.concat([df_matriculas, df_matricula])\n",
    "        \n",
    "df_matriculas.columns"
   ]
  },
  {
   "cell_type": "code",
   "execution_count": 8,
   "metadata": {},
   "outputs": [],
   "source": [
    "df_matriculas = df_matriculas[df_matriculas.id_curso == float(id_curso)]"
   ]
  },
  {
   "cell_type": "code",
   "execution_count": 9,
   "metadata": {},
   "outputs": [
    {
     "name": "stderr",
     "output_type": "stream",
     "text": [
      "/home/andressa/anaconda3/lib/python3.6/site-packages/IPython/core/interactiveshell.py:2785: DtypeWarning: Columns (24) have mixed types. Specify dtype option on import or set low_memory=False.\n",
      "  interactivity=interactivity, compiler=compiler, result=result)\n"
     ]
    }
   ],
   "source": [
    "df_turmas = pd.read_csv('../data_science/turmas-2010-2017-ok.csv')\n",
    "df_matTurma = pd.merge(df_matriculas, df_turmas, on='id_turma')"
   ]
  },
  {
   "cell_type": "code",
   "execution_count": 13,
   "metadata": {},
   "outputs": [
    {
     "name": "stderr",
     "output_type": "stream",
     "text": [
      "/home/andressa/anaconda3/lib/python3.6/site-packages/ipykernel_launcher.py:3: SettingWithCopyWarning: \n",
      "A value is trying to be set on a copy of a slice from a DataFrame.\n",
      "Try using .loc[row_indexer,col_indexer] = value instead\n",
      "\n",
      "See the caveats in the documentation: http://pandas.pydata.org/pandas-docs/stable/indexing.html#indexing-view-versus-copy\n",
      "  This is separate from the ipykernel package so we can avoid doing imports until\n"
     ]
    }
   ],
   "source": [
    "colunas = ['discente', 'ano', 'periodo']\n",
    "df_discentePer = df_matTurma[colunas]\n",
    "df_discentePer['anoperiodoTer'] = (df_discentePer['ano'].map(str)+df_discentePer['periodo'].map(str))"
   ]
  },
  {
   "cell_type": "code",
   "execution_count": 15,
   "metadata": {},
   "outputs": [],
   "source": [
    "#pegar o ultimo ano/periodo que pagaram disciplina\n",
    "series_maxPer = df_discentePer.groupby('discente').anoperiodoTer.max().reset_index()\n",
    "\n",
    "# Ingressantes\n",
    "df_ingressantePeriodo = pd.merge(df_merge, series_maxPer, left_on='id_discente',\n",
    "                                 right_on='discente')\n",
    "df_ingressantePeriodo['anoperiodoIngresso'] = (df_ingressantePeriodo['ano_ingresso'].map(str)+\n",
    "                                               df_ingressantePeriodo['periodo_ingresso'].map(str))\n",
    "df_tableIngre = df_ingressantePeriodo.anoperiodoIngresso.value_counts().reset_index()\n",
    "\n",
    "# Desistentes: CANCELADO, TRANCADO\n",
    "df_desis = df_ingressantePeriodo[(df_ingressantePeriodo['status'] == 'CANCELADO') |\n",
    "                                 (df_ingressantePeriodo['status'] == 'TRANCADO')]\n",
    "df_tableDesis = df_desis.anoperiodoTer.value_counts().reset_index()\n",
    "\n",
    "# Formados: CONCLUÍDO\n",
    "df_conc = df_ingressantePeriodo[df_ingressantePeriodo['status'] == 'CONCLUÍDO']\n",
    "df_tableConc = df_conc.anoperiodoTer.value_counts().reset_index()"
   ]
  },
  {
   "cell_type": "code",
   "execution_count": 16,
   "metadata": {},
   "outputs": [
    {
     "data": {
      "text/plain": [
       "Index(['index', 'anoperiodoTer'], dtype='object')"
      ]
     },
     "execution_count": 16,
     "metadata": {},
     "output_type": "execute_result"
    }
   ],
   "source": [
    "df_tableDesis.columns"
   ]
  },
  {
   "cell_type": "code",
   "execution_count": 17,
   "metadata": {},
   "outputs": [
    {
     "data": {
      "text/html": [
       "<div>\n",
       "<style scoped>\n",
       "    .dataframe tbody tr th:only-of-type {\n",
       "        vertical-align: middle;\n",
       "    }\n",
       "\n",
       "    .dataframe tbody tr th {\n",
       "        vertical-align: top;\n",
       "    }\n",
       "\n",
       "    .dataframe thead th {\n",
       "        text-align: right;\n",
       "    }\n",
       "</style>\n",
       "<table border=\"1\" class=\"dataframe\">\n",
       "  <thead>\n",
       "    <tr style=\"text-align: right;\">\n",
       "      <th></th>\n",
       "      <th>periodos</th>\n",
       "    </tr>\n",
       "  </thead>\n",
       "  <tbody>\n",
       "    <tr>\n",
       "      <th>0</th>\n",
       "      <td>20092</td>\n",
       "    </tr>\n",
       "    <tr>\n",
       "      <th>1</th>\n",
       "      <td>20101</td>\n",
       "    </tr>\n",
       "    <tr>\n",
       "      <th>2</th>\n",
       "      <td>20102</td>\n",
       "    </tr>\n",
       "    <tr>\n",
       "      <th>3</th>\n",
       "      <td>20111</td>\n",
       "    </tr>\n",
       "    <tr>\n",
       "      <th>4</th>\n",
       "      <td>20112</td>\n",
       "    </tr>\n",
       "    <tr>\n",
       "      <th>5</th>\n",
       "      <td>20121</td>\n",
       "    </tr>\n",
       "    <tr>\n",
       "      <th>6</th>\n",
       "      <td>20122</td>\n",
       "    </tr>\n",
       "    <tr>\n",
       "      <th>7</th>\n",
       "      <td>20131</td>\n",
       "    </tr>\n",
       "    <tr>\n",
       "      <th>8</th>\n",
       "      <td>20132</td>\n",
       "    </tr>\n",
       "    <tr>\n",
       "      <th>9</th>\n",
       "      <td>20141</td>\n",
       "    </tr>\n",
       "    <tr>\n",
       "      <th>10</th>\n",
       "      <td>20142</td>\n",
       "    </tr>\n",
       "    <tr>\n",
       "      <th>11</th>\n",
       "      <td>20151</td>\n",
       "    </tr>\n",
       "    <tr>\n",
       "      <th>12</th>\n",
       "      <td>20152</td>\n",
       "    </tr>\n",
       "    <tr>\n",
       "      <th>13</th>\n",
       "      <td>20161</td>\n",
       "    </tr>\n",
       "    <tr>\n",
       "      <th>14</th>\n",
       "      <td>20162</td>\n",
       "    </tr>\n",
       "    <tr>\n",
       "      <th>15</th>\n",
       "      <td>20171</td>\n",
       "    </tr>\n",
       "    <tr>\n",
       "      <th>16</th>\n",
       "      <td>20172</td>\n",
       "    </tr>\n",
       "  </tbody>\n",
       "</table>\n",
       "</div>"
      ],
      "text/plain": [
       "    periodos\n",
       "0      20092\n",
       "1      20101\n",
       "2      20102\n",
       "3      20111\n",
       "4      20112\n",
       "5      20121\n",
       "6      20122\n",
       "7      20131\n",
       "8      20132\n",
       "9      20141\n",
       "10     20142\n",
       "11     20151\n",
       "12     20152\n",
       "13     20161\n",
       "14     20162\n",
       "15     20171\n",
       "16     20172"
      ]
     },
     "execution_count": 17,
     "metadata": {},
     "output_type": "execute_result"
    }
   ],
   "source": [
    "lista = df_tableDesis.anoperiodoTer.unique()\n",
    "df_todosperiodos = pd.DataFrame()\n",
    "df_todosperiodos['periodos'] = [20092,20101,20102,20111,20112,20121,20122,20131,20132,20141,20142,\n",
    "                                20151,20152,20161,20162,20171,20172]\n",
    "teste = df_todosperiodos[~df_todosperiodos.periodos.isin(lista)]\n",
    "teste"
   ]
  },
  {
   "cell_type": "code",
   "execution_count": 18,
   "metadata": {},
   "outputs": [
    {
     "name": "stderr",
     "output_type": "stream",
     "text": [
      "/home/andressa/anaconda3/lib/python3.6/site-packages/ipykernel_launcher.py:16: FutureWarning: Sorting because non-concatenation axis is not aligned. A future version\n",
      "of pandas will change to not sort by default.\n",
      "\n",
      "To accept the future behavior, pass 'sort=True'.\n",
      "\n",
      "To retain the current behavior and silence the warning, pass sort=False\n",
      "\n",
      "  app.launch_new_instance()\n",
      "/home/andressa/anaconda3/lib/python3.6/site-packages/ipykernel_launcher.py:31: FutureWarning: Sorting because non-concatenation axis is not aligned. A future version\n",
      "of pandas will change to not sort by default.\n",
      "\n",
      "To accept the future behavior, pass 'sort=True'.\n",
      "\n",
      "To retain the current behavior and silence the warning, pass sort=False\n",
      "\n",
      "/home/andressa/anaconda3/lib/python3.6/site-packages/ipykernel_launcher.py:46: FutureWarning: Sorting because non-concatenation axis is not aligned. A future version\n",
      "of pandas will change to not sort by default.\n",
      "\n",
      "To accept the future behavior, pass 'sort=True'.\n",
      "\n",
      "To retain the current behavior and silence the warning, pass sort=False\n",
      "\n"
     ]
    }
   ],
   "source": [
    "df_todosperiodos = pd.DataFrame()\n",
    "df_todosperiodos['anoperiodo'] = [20092,20101,20102,20111,20112,20121,20122,20131,20132,20141,20142,\n",
    "                                20151,20152,20161,20162,20171,20172]\n",
    "col = ['anoperiodo','quantidade']\n",
    "\n",
    "################################\n",
    "\n",
    "df_tableIngre['quantidade'] = df_tableIngre['anoperiodoIngresso']\n",
    "df_tableIngre['anoperiodo'] = df_tableIngre['index']\n",
    "df_tableIngre = df_tableIngre[col]\n",
    "df_tableIngre['anoperiodo'] = df_tableIngre.anoperiodo.astype(int)\n",
    "\n",
    "lista = df_tableIngre.anoperiodo.unique()\n",
    "faltaPeriodos = df_todosperiodos[~df_todosperiodos.anoperiodo.isin(lista)]\n",
    "\n",
    "df_tableIngre = pd.concat([df_tableIngre, faltaPeriodos])\n",
    "df_tableIngre = df_tableIngre.fillna(0)\n",
    "df_tableIngre['quantidade'] = df_tableIngre.quantidade.astype(int)\n",
    "df_tableIngre = df_tableIngre.sort_values('anoperiodo')\n",
    "\n",
    "###################################\n",
    "\n",
    "df_tableDesis['quantidade'] = df_tableDesis['anoperiodoTer']\n",
    "df_tableDesis['anoperiodo'] = df_tableDesis['index']\n",
    "df_tableDesis = df_tableDesis[col]\n",
    "df_tableDesis['anoperiodo'] = df_tableDesis.anoperiodo.astype(int)\n",
    "\n",
    "lista = df_tableDesis.anoperiodo.unique()\n",
    "faltaPeriodos = df_todosperiodos[~df_todosperiodos.anoperiodo.isin(lista)]\n",
    "\n",
    "df_tableDesis = pd.concat([df_tableDesis, faltaPeriodos])\n",
    "df_tableDesis = df_tableDesis.fillna(0)\n",
    "df_tableDesis['quantidade'] = df_tableDesis.quantidade.astype(int)\n",
    "df_tableDesis = df_tableDesis.sort_values('anoperiodo')\n",
    "\n",
    "####################################\n",
    "\n",
    "df_tableConc['quantidade'] = df_tableConc['anoperiodoTer']\n",
    "df_tableConc['anoperiodo'] = df_tableConc['index']\n",
    "df_tableConc = df_tableConc[col]\n",
    "df_tableConc['anoperiodo'] = df_tableConc.anoperiodo.astype(int)\n",
    "\n",
    "lista = df_tableConc.anoperiodo.unique()\n",
    "faltaPeriodos = df_todosperiodos[~df_todosperiodos.anoperiodo.isin(lista)]\n",
    "\n",
    "df_tableConc = pd.concat([df_tableConc, faltaPeriodos])\n",
    "df_tableConc = df_tableConc.fillna(0)\n",
    "df_tableConc['quantidade'] = df_tableConc.quantidade.astype(int)\n",
    "df_tableConc = df_tableConc.sort_values('anoperiodo')"
   ]
  },
  {
   "cell_type": "code",
   "execution_count": 19,
   "metadata": {},
   "outputs": [],
   "source": [
    "df_tableIngre.to_csv('../data_science/ingressantesQnt.csv')\n",
    "df_tableDesis.to_csv('../data_science/desistentesQnt.csv')\n",
    "df_tableConc.to_csv('../data_science/concluintesQnt.csv')"
   ]
  }
 ],
 "metadata": {
  "kernelspec": {
   "display_name": "Python 3",
   "language": "python",
   "name": "python3"
  },
  "language_info": {
   "codemirror_mode": {
    "name": "ipython",
    "version": 3
   },
   "file_extension": ".py",
   "mimetype": "text/x-python",
   "name": "python",
   "nbconvert_exporter": "python",
   "pygments_lexer": "ipython3",
   "version": "3.6.5"
  }
 },
 "nbformat": 4,
 "nbformat_minor": 2
}
