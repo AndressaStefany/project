{
 "cells": [
  {
   "cell_type": "code",
   "execution_count": 1,
   "metadata": {},
   "outputs": [],
   "source": [
    "import pandas as pd\n",
    "import numpy as np\n",
    "import matplotlib.pyplot as plt"
   ]
  },
  {
   "cell_type": "code",
   "execution_count": 2,
   "metadata": {},
   "outputs": [
    {
     "name": "stdout",
     "output_type": "stream",
     "text": [
      "2009\n",
      "2010\n",
      "2011\n",
      "2012\n",
      "2013\n",
      "2014\n",
      "2015\n",
      "2016\n",
      "2017\n"
     ]
    }
   ],
   "source": [
    "df_ingressos = pd.DataFrame()\n",
    "\n",
    "# importando notas de 2009 a 2017\n",
    "for i in range(2009,2018):\n",
    "    print(i)\n",
    "    df_ingresso = pd.read_csv('../data_science/discentes/discentes-'+str(i)+'.csv',sep=';')\n",
    "    df_ingressos = pd.concat([df_ingressos, df_ingresso])\n",
    "    "
   ]
  },
  {
   "cell_type": "code",
   "execution_count": 3,
   "metadata": {},
   "outputs": [],
   "source": [
    "# curso CeT\n",
    "id_curso = 10320810.0\n",
    "# filtrando igressantes de CeT\n",
    "df_ingressoCeT = df_ingressos[df_ingressos[\"id_curso\"] == id_curso]"
   ]
  },
  {
   "cell_type": "code",
   "execution_count": 43,
   "metadata": {},
   "outputs": [],
   "source": [
    "df_relacao = pd.read_csv('../data_science/matriculas-2013-2017.csv', sep=';')\n",
    "cols = ['id_discente', 'nome', 'cotista', 'nota_ingresso']\n",
    "df_relacao = df_relacao[cols]"
   ]
  },
  {
   "cell_type": "code",
   "execution_count": 44,
   "metadata": {},
   "outputs": [],
   "source": [
    "df_merge = pd.merge(df_ingressoCeT, df_relacao, left_on='nome_discente', right_on='nome')\n",
    "colunas = ['matricula', 'id_discente', 'ano_ingresso', 'periodo_ingresso',\n",
    "           'forma_ingresso', 'tipo_discente', 'status', 'cotista', 'nota_ingresso']\n",
    "\n",
    "df_merge = df_merge[colunas]"
   ]
  },
  {
   "cell_type": "code",
   "execution_count": 8,
   "metadata": {},
   "outputs": [
    {
     "name": "stdout",
     "output_type": "stream",
     "text": [
      "20111\n",
      "20112\n",
      "20121\n",
      "20122\n",
      "20131\n",
      "20132\n",
      "20141\n",
      "20142\n",
      "20151\n"
     ]
    },
    {
     "name": "stderr",
     "output_type": "stream",
     "text": [
      "/home/andressa/anaconda3/lib/python3.6/site-packages/ipykernel_launcher.py:8: FutureWarning: Sorting because non-concatenation axis is not aligned. A future version\n",
      "of pandas will change to not sort by default.\n",
      "\n",
      "To accept the future behavior, pass 'sort=True'.\n",
      "\n",
      "To retain the current behavior and silence the warning, pass sort=False\n",
      "\n",
      "  \n"
     ]
    },
    {
     "name": "stdout",
     "output_type": "stream",
     "text": [
      "20152\n",
      "20161\n",
      "20162\n",
      "20171\n",
      "20172\n"
     ]
    },
    {
     "data": {
      "text/plain": [
       "Index(['Unnamed: 10', 'descricao', 'discente', 'faltas_unidade', 'id_curso',\n",
       "       'id_turma', 'media_final', 'nota', 'numero_total_faltas', 'reposicao',\n",
       "       'unidade'],\n",
       "      dtype='object')"
      ]
     },
     "execution_count": 8,
     "metadata": {},
     "output_type": "execute_result"
    }
   ],
   "source": [
    "df_matriculas = pd.DataFrame()\n",
    "\n",
    "for i in range(11,18):\n",
    "    for j in range(1,3):\n",
    "        print('20'+str(i)+str(j))\n",
    "        df_matricula = pd.read_csv('../data_science/matriculas_new/matricula-componente-20'+str(i)+str(j)+'.csv',sep=';')\n",
    "        #concatena as tabelas de 2010 a 2017\n",
    "        df_matriculas = pd.concat([df_matriculas, df_matricula])\n",
    "        \n",
    "df_matriculas.columns"
   ]
  },
  {
   "cell_type": "code",
   "execution_count": 36,
   "metadata": {},
   "outputs": [],
   "source": [
    "df_matriculas = df_matriculas[df_matriculas.id_curso == float(id_curso)]"
   ]
  },
  {
   "cell_type": "code",
   "execution_count": 37,
   "metadata": {},
   "outputs": [
    {
     "name": "stderr",
     "output_type": "stream",
     "text": [
      "/home/andressa/anaconda3/lib/python3.6/site-packages/IPython/core/interactiveshell.py:2785: DtypeWarning: Columns (24) have mixed types. Specify dtype option on import or set low_memory=False.\n",
      "  interactivity=interactivity, compiler=compiler, result=result)\n"
     ]
    }
   ],
   "source": [
    "df_turmas = pd.read_csv('../data_science/turmas-2010-2017-ok.csv')\n",
    "df_matTurma = pd.merge(df_matriculas, df_turmas, on='id_turma')"
   ]
  },
  {
   "cell_type": "code",
   "execution_count": 38,
   "metadata": {},
   "outputs": [
    {
     "name": "stderr",
     "output_type": "stream",
     "text": [
      "/home/andressa/anaconda3/lib/python3.6/site-packages/ipykernel_launcher.py:3: SettingWithCopyWarning: \n",
      "A value is trying to be set on a copy of a slice from a DataFrame.\n",
      "Try using .loc[row_indexer,col_indexer] = value instead\n",
      "\n",
      "See the caveats in the documentation: http://pandas.pydata.org/pandas-docs/stable/indexing.html#indexing-view-versus-copy\n",
      "  This is separate from the ipykernel package so we can avoid doing imports until\n"
     ]
    }
   ],
   "source": [
    "colunas = ['discente', 'ano', 'periodo']\n",
    "df_discentePer = df_matTurma[colunas]\n",
    "df_discentePer['anoperiodo'] = (df_discentePer['ano'].map(str)+df_discentePer['periodo'].map(str))"
   ]
  },
  {
   "cell_type": "code",
   "execution_count": 42,
   "metadata": {},
   "outputs": [],
   "source": [
    "#pegar o ultimo ano/periodo que pagaram disciplina\n",
    "series_maxPer = df_discentePer.groupby('discente').anoperiodo.max().reset_index()\n",
    "\n",
    "# Ingressantes\n",
    "df_ingressantePeriodo = pd.merge(df_merge, series_maxPer, left_on='id_discente', right_on='discente')\n",
    "\n",
    "# Desistentes: CANCELADO, TRANCADO\n",
    "df_desis = df_ingressantePeriodo[(df_ingressantePeriodo['status'] == 'CANCELADO') | (df_ingressantePeriodo['status'] == 'TRANCADO')]\n",
    "\n",
    "# Formados: CONCLUÍDO\n",
    "df_conc = df_ingressantePeriodo[df_ingressantePeriodo['status'] == 'CONCLUÍDO']"
   ]
  },
  {
   "cell_type": "code",
   "execution_count": 45,
   "metadata": {},
   "outputs": [],
   "source": [
    "# separar quantidade por anoperiodo"
   ]
  }
 ],
 "metadata": {
  "kernelspec": {
   "display_name": "Python 3",
   "language": "python",
   "name": "python3"
  },
  "language_info": {
   "codemirror_mode": {
    "name": "ipython",
    "version": 3
   },
   "file_extension": ".py",
   "mimetype": "text/x-python",
   "name": "python",
   "nbconvert_exporter": "python",
   "pygments_lexer": "ipython3",
   "version": "3.6.5"
  }
 },
 "nbformat": 4,
 "nbformat_minor": 2
}
