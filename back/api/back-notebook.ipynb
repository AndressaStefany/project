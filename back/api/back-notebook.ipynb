{
 "cells": [
  {
   "cell_type": "code",
   "execution_count": 19,
   "metadata": {},
   "outputs": [],
   "source": [
    "import pandas as pd"
   ]
  },
  {
   "cell_type": "code",
   "execution_count": 55,
   "metadata": {},
   "outputs": [],
   "source": [
    "teste = pd.read_csv('data_science/df_disciplinas2015.csv')\n",
    "\n",
    "series_teste = (Teste['ano'].map(str)+Teste['periodo'].map(str))\n",
    "teste['periodoano'] = series_teste.astype(int)\n",
    "\n",
    "teste.to_csv('data_science/df_disciplinas2015New.csv')"
   ]
  },
  {
   "cell_type": "code",
   "execution_count": 56,
   "metadata": {},
   "outputs": [
    {
     "name": "stdout",
     "output_type": "stream",
     "text": [
      "Index(['Unnamed: 0', 'Unnamed: 0.1', 'index', 'descricao', 'discente',\n",
      "       'id_turma', 'media_final', 'codigo', 'nome', 'ano', 'periodo',\n",
      "       'unidade_responsavel', 'id_curso', 'periodoano'],\n",
      "      dtype='object')\n"
     ]
    }
   ],
   "source": [
    "dataFrame = pd.read_csv('data_science/df_disciplinas2015New.csv')\n",
    "\n",
    "discA = 'CÁLCULO I'\n",
    "discB = 'CÁLCULO II'\n",
    "\n",
    "dataFrame = dataFrame.dropna()\n",
    "\n",
    "print(dataFrame.columns)"
   ]
  },
  {
   "cell_type": "code",
   "execution_count": 96,
   "metadata": {},
   "outputs": [],
   "source": [
    "def correlacao(discA, discB):\n",
    "    dataFrame = pd.read_csv('data_science/df_disciplinas2015New.csv')\n",
    "    dataFrameA = dataFrame[dataFrame['nome'] == discA]\n",
    "    dataFrameB = dataFrame[dataFrame['nome'] == discB]\n",
    "\n",
    "    # filtrando apenas alunos que pagaram ambas as disciplinas\n",
    "    # series_discentesA = dataFrameA.discente.unique()\n",
    "    # series_discentesB = dataFrameB.discente.unique()\n",
    "\n",
    "    # dataFrameA = dataFrameA[dataFrameA['discente'].isin(series_discentesA)]\n",
    "    # dataFrameB = dataFrameB[dataFrameB['discente'].isin(series_discentesB)]\n",
    "\n",
    "    # Aprovados no DiscA\n",
    "    dataFrameA = dataFrameA[dataFrameA['descricao'].str.contains('APROVADO')]\n",
    "\n",
    "    series_aprovados = dataFrameA.discente.unique()\n",
    "\n",
    "    df_finalB = pd.DataFrame()\n",
    "\n",
    "    for dis in series_aprovados:\n",
    "        linhas = dataFrameB[dataFrameB['discente'] == dis]\n",
    "        linha = linhas[linhas['periodoano'] == linhas.periodoano.min()]\n",
    "\n",
    "        df_finalB = pd.concat([df_finalB, linha])\n",
    "\n",
    "    # concatenando das tabelas\n",
    "    colunas = ['discente', 'media_final', 'nome']\n",
    "    dataFrameA = dataFrameA[colunas]\n",
    "    df_finalB = df_finalB[colunas]\n",
    "\n",
    "    conc = pd.concat([dataFrameA, df_finalB])\n",
    "\n",
    "    df = pd.crosstab(conc.discente, conc.nome, conc.media_final,aggfunc=np.mean)\n",
    "    df = df.dropna()\n",
    "    df_correlacao = df.corr()\n",
    "\n",
    "    return df_correlacao[discA][discB]"
   ]
  },
  {
   "cell_type": "code",
   "execution_count": 101,
   "metadata": {},
   "outputs": [
    {
     "data": {
      "text/plain": [
       "0.4561864835475157"
      ]
     },
     "execution_count": 101,
     "metadata": {},
     "output_type": "execute_result"
    }
   ],
   "source": [
    "df_correlacao[discA][discB]"
   ]
  },
  {
   "cell_type": "code",
   "execution_count": null,
   "metadata": {},
   "outputs": [],
   "source": []
  }
 ],
 "metadata": {
  "kernelspec": {
   "display_name": "Python 3",
   "language": "python",
   "name": "python3"
  },
  "language_info": {
   "codemirror_mode": {
    "name": "ipython",
    "version": 3
   },
   "file_extension": ".py",
   "mimetype": "text/x-python",
   "name": "python",
   "nbconvert_exporter": "python",
   "pygments_lexer": "ipython3",
   "version": "3.6.4"
  }
 },
 "nbformat": 4,
 "nbformat_minor": 2
}
