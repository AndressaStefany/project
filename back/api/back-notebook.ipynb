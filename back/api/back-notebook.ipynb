{
 "cells": [
  {
   "cell_type": "code",
   "execution_count": 9,
   "metadata": {},
   "outputs": [],
   "source": [
    "import pandas as pd"
   ]
  },
  {
   "cell_type": "code",
   "execution_count": 7,
   "metadata": {},
   "outputs": [
    {
     "name": "stdout",
     "output_type": "stream",
     "text": [
      "Index(['Unnamed: 0', 'index', 'descricao', 'discente', 'id_turma',\n",
      "       'media_final', 'codigo', 'nome', 'ano', 'periodo',\n",
      "       'unidade_responsavel', 'id_curso'],\n",
      "      dtype='object')\n"
     ]
    }
   ],
   "source": [
    "dataFrame = pd.read_csv('data_science/df_disciplinas2015.csv')\n",
    "\n",
    "discA = 'CÁLCULO I'\n",
    "discB = 'CÁLCULO II'\n",
    "\n",
    "print(dataFrame.columns)"
   ]
  },
  {
   "cell_type": "code",
   "execution_count": 17,
   "metadata": {},
   "outputs": [
    {
     "data": {
      "text/plain": [
       "array(['3d688dbe74a84992ce43181e08c0f295',\n",
       "       '6c4acceb9b1288b61d893dc1b5005764',\n",
       "       'bb67c2ca87d0e1fcf027b2f0f6df4221', ...,\n",
       "       '0ab3da86c1cc63d83120c066857ec3c8',\n",
       "       '1759ae541bed9911e1aaf5a5b4f4868d',\n",
       "       '1aad307319d1fc834a59c4a6530e801a'], dtype=object)"
      ]
     },
     "execution_count": 17,
     "metadata": {},
     "output_type": "execute_result"
    }
   ],
   "source": [
    "dataFrameA = dataFrame[dataFrame['nome'] == discA]\n",
    "dataFrameB = dataFrame[dataFrame['nome'] == discB]\n",
    "\n",
    "df = pd.concat([dataFrameA, dataFrameB])\n",
    "\n",
    "series_discentes = df.discente.unique()\n",
    "\n",
    "series_discentes"
   ]
  }
 ],
 "metadata": {
  "kernelspec": {
   "display_name": "Python 3",
   "language": "python",
   "name": "python3"
  },
  "language_info": {
   "codemirror_mode": {
    "name": "ipython",
    "version": 3
   },
   "file_extension": ".py",
   "mimetype": "text/x-python",
   "name": "python",
   "nbconvert_exporter": "python",
   "pygments_lexer": "ipython3",
   "version": "3.6.4"
  }
 },
 "nbformat": 4,
 "nbformat_minor": 2
}
